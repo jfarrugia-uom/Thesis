{
 "cells": [
  {
   "cell_type": "code",
   "execution_count": 1,
   "metadata": {
    "collapsed": true
   },
   "outputs": [],
   "source": [
    "# Michael A. Alcorn (malcorn@redhat.com)\n",
    "# A (slightly modified) implementation of RankNet as described in [1].\n",
    "#   [1] http://icml.cc/2015/wp-content/uploads/2015/06/icml_ranking.pdf\n",
    "#   [2] https://www.microsoft.com/en-us/research/wp-content/uploads/2016/02/MSR-TR-2010-82.pdf\n",
    "\n",
    "import numpy as np\n",
    "\n",
    "from tensorflow.keras import backend\n",
    "\n",
    "from tensorflow.keras.layers import Activation, Dense, Input, Subtract\n",
    "from tensorflow.keras.models import Model\n"
   ]
  },
  {
   "cell_type": "code",
   "execution_count": 11,
   "metadata": {
    "collapsed": true
   },
   "outputs": [],
   "source": [
    "INPUT_DIM = 10\n",
    "\n",
    "# Model.\n",
    "h_1 = Dense(128, activation = \"relu\")\n",
    "h_2 = Dense(64, activation = \"relu\")\n",
    "h_3 = Dense(32, activation = \"relu\")\n",
    "s = Dense(1)\n",
    "\n",
    "# Relevant document score.\n",
    "rel_doc = Input(shape = (INPUT_DIM, ), dtype = \"float32\")\n",
    "h_1_rel = h_1(rel_doc)\n",
    "h_2_rel = h_2(h_1_rel)\n",
    "h_3_rel = h_3(h_2_rel)\n",
    "rel_score = s(h_3_rel)\n",
    "\n",
    "# Irrelevant document score.\n",
    "irr_doc = Input(shape = (INPUT_DIM, ), dtype = \"float32\")\n",
    "h_1_irr = h_1(irr_doc)\n",
    "h_2_irr = h_2(h_1_irr)\n",
    "h_3_irr = h_3(h_2_irr)\n",
    "irr_score = s(h_3_irr)\n",
    "\n",
    "# Subtract scores.\n",
    "diff = Subtract()([rel_score, irr_score])\n",
    "\n",
    "# Pass difference through sigmoid function.\n",
    "prob = Activation(\"sigmoid\")(diff)\n",
    "\n",
    "# Build model.\n",
    "model = Model(inputs = [rel_doc, irr_doc], outputs = prob)\n",
    "model.compile(optimizer = \"adadelta\", loss = \"binary_crossentropy\")\n"
   ]
  },
  {
   "cell_type": "code",
   "execution_count": 3,
   "metadata": {},
   "outputs": [
    {
     "name": "stdout",
     "output_type": "stream",
     "text": [
      "__________________________________________________________________________________________________\n",
      "Layer (type)                    Output Shape         Param #     Connected to                     \n",
      "==================================================================================================\n",
      "input_1 (InputLayer)            (None, 1)            0                                            \n",
      "__________________________________________________________________________________________________\n",
      "input_2 (InputLayer)            (None, 1)            0                                            \n",
      "__________________________________________________________________________________________________\n",
      "dense (Dense)                   (None, 128)          256         input_1[0][0]                    \n",
      "                                                                 input_2[0][0]                    \n",
      "__________________________________________________________________________________________________\n",
      "dense_1 (Dense)                 (None, 64)           8256        dense[0][0]                      \n",
      "                                                                 dense[1][0]                      \n",
      "__________________________________________________________________________________________________\n",
      "dense_2 (Dense)                 (None, 32)           2080        dense_1[0][0]                    \n",
      "                                                                 dense_1[1][0]                    \n",
      "__________________________________________________________________________________________________\n",
      "dense_3 (Dense)                 (None, 1)            33          dense_2[0][0]                    \n",
      "                                                                 dense_2[1][0]                    \n",
      "__________________________________________________________________________________________________\n",
      "subtract (Subtract)             (None, 1)            0           dense_3[0][0]                    \n",
      "                                                                 dense_3[1][0]                    \n",
      "__________________________________________________________________________________________________\n",
      "activation (Activation)         (None, 1)            0           subtract[0][0]                   \n",
      "==================================================================================================\n",
      "Total params: 10,625\n",
      "Trainable params: 10,625\n",
      "Non-trainable params: 0\n",
      "__________________________________________________________________________________________________\n"
     ]
    }
   ],
   "source": [
    "model.summary()"
   ]
  },
  {
   "cell_type": "code",
   "execution_count": 12,
   "metadata": {
    "collapsed": true
   },
   "outputs": [],
   "source": [
    "# Fake data.\n",
    "N = 100\n",
    "X_1 = 2 * np.random.uniform(size = (N, INPUT_DIM))\n",
    "X_2 = np.random.uniform(size = (N, INPUT_DIM))\n",
    "y = np.ones((X_1.shape[0], 1))\n"
   ]
  },
  {
   "cell_type": "code",
   "execution_count": null,
   "metadata": {
    "collapsed": true
   },
   "outputs": [],
   "source": []
  },
  {
   "cell_type": "code",
   "execution_count": 13,
   "metadata": {},
   "outputs": [
    {
     "name": "stdout",
     "output_type": "stream",
     "text": [
      "Epoch 1/10\n",
      "100/100 [==============================] - 1s 8ms/step - loss: 0.5093\n",
      "Epoch 2/10\n",
      "100/100 [==============================] - 0s 353us/step - loss: 0.2360\n",
      "Epoch 3/10\n",
      "100/100 [==============================] - 0s 430us/step - loss: 0.1047\n",
      "Epoch 4/10\n",
      "100/100 [==============================] - 0s 427us/step - loss: 0.0565\n",
      "Epoch 5/10\n",
      "100/100 [==============================] - 0s 471us/step - loss: 0.0381\n",
      "Epoch 6/10\n",
      "100/100 [==============================] - 0s 418us/step - loss: 0.0284\n",
      "Epoch 7/10\n",
      "100/100 [==============================] - 0s 887us/step - loss: 0.0221\n",
      "Epoch 8/10\n",
      "100/100 [==============================] - 0s 392us/step - loss: 0.0176\n",
      "Epoch 9/10\n",
      "100/100 [==============================] - 0s 306us/step - loss: 0.0143\n",
      "Epoch 10/10\n",
      "100/100 [==============================] - 0s 382us/step - loss: 0.0117\n"
     ]
    }
   ],
   "source": [
    "# Train model.\n",
    "NUM_EPOCHS = 10\n",
    "BATCH_SIZE = 10\n",
    "history = model.fit([X_1, X_2], y, batch_size = BATCH_SIZE, epochs = NUM_EPOCHS, verbose = 1)\n",
    "\n",
    "# Generate scores from document/query features.\n",
    "get_score = backend.function([rel_doc], [rel_score])\n",
    "#print get_score([X_1])\n",
    "#get_score([X_2])"
   ]
  },
  {
   "cell_type": "code",
   "execution_count": 88,
   "metadata": {},
   "outputs": [
    {
     "data": {
      "text/plain": [
       "TensorShape([Dimension(None), Dimension(100)])"
      ]
     },
     "execution_count": 88,
     "metadata": {},
     "output_type": "execute_result"
    }
   ],
   "source": [
    "rel_doc.shape"
   ]
  },
  {
   "cell_type": "code",
   "execution_count": 15,
   "metadata": {},
   "outputs": [
    {
     "data": {
      "text/plain": [
       "[array([[13.151611 ],\n",
       "        [12.755197 ],\n",
       "        [17.037495 ],\n",
       "        [12.849141 ],\n",
       "        [16.149529 ],\n",
       "        [12.821463 ],\n",
       "        [19.512638 ],\n",
       "        [15.077787 ],\n",
       "        [18.58548  ],\n",
       "        [13.793613 ],\n",
       "        [14.040407 ],\n",
       "        [14.446678 ],\n",
       "        [15.769969 ],\n",
       "        [11.526705 ],\n",
       "        [17.27346  ],\n",
       "        [17.774662 ],\n",
       "        [17.023296 ],\n",
       "        [15.51837  ],\n",
       "        [12.174841 ],\n",
       "        [13.936768 ],\n",
       "        [15.150005 ],\n",
       "        [16.539719 ],\n",
       "        [16.822834 ],\n",
       "        [11.444159 ],\n",
       "        [ 9.691441 ],\n",
       "        [14.895153 ],\n",
       "        [16.674446 ],\n",
       "        [16.584354 ],\n",
       "        [16.927    ],\n",
       "        [14.86408  ],\n",
       "        [16.998953 ],\n",
       "        [13.20396  ],\n",
       "        [16.941227 ],\n",
       "        [22.66306  ],\n",
       "        [17.235527 ],\n",
       "        [15.036436 ],\n",
       "        [14.780407 ],\n",
       "        [17.75266  ],\n",
       "        [11.220555 ],\n",
       "        [14.835354 ],\n",
       "        [15.517542 ],\n",
       "        [18.49413  ],\n",
       "        [16.1913   ],\n",
       "        [13.993706 ],\n",
       "        [15.943951 ],\n",
       "        [10.034043 ],\n",
       "        [21.147556 ],\n",
       "        [16.869957 ],\n",
       "        [18.743101 ],\n",
       "        [16.855484 ],\n",
       "        [18.863438 ],\n",
       "        [22.489628 ],\n",
       "        [10.790749 ],\n",
       "        [14.142387 ],\n",
       "        [11.706614 ],\n",
       "        [19.494682 ],\n",
       "        [16.380924 ],\n",
       "        [12.14648  ],\n",
       "        [18.563898 ],\n",
       "        [10.527634 ],\n",
       "        [21.234747 ],\n",
       "        [13.137799 ],\n",
       "        [11.067993 ],\n",
       "        [14.516739 ],\n",
       "        [17.463602 ],\n",
       "        [17.829409 ],\n",
       "        [13.448061 ],\n",
       "        [19.462147 ],\n",
       "        [ 7.853919 ],\n",
       "        [15.395738 ],\n",
       "        [13.513775 ],\n",
       "        [12.970107 ],\n",
       "        [18.392918 ],\n",
       "        [14.8742695],\n",
       "        [17.689734 ],\n",
       "        [15.111673 ],\n",
       "        [22.863516 ],\n",
       "        [14.699011 ],\n",
       "        [18.719986 ],\n",
       "        [14.511797 ],\n",
       "        [15.926916 ],\n",
       "        [16.057302 ],\n",
       "        [15.695812 ],\n",
       "        [17.292011 ],\n",
       "        [18.029724 ],\n",
       "        [18.027805 ],\n",
       "        [17.360102 ],\n",
       "        [13.417168 ],\n",
       "        [16.840565 ],\n",
       "        [10.112625 ],\n",
       "        [16.735256 ],\n",
       "        [20.444138 ],\n",
       "        [13.080786 ],\n",
       "        [18.550747 ],\n",
       "        [17.386711 ],\n",
       "        [19.152945 ],\n",
       "        [12.500839 ],\n",
       "        [11.756584 ],\n",
       "        [20.26656  ],\n",
       "        [19.280151 ]], dtype=float32)]"
      ]
     },
     "execution_count": 15,
     "metadata": {},
     "output_type": "execute_result"
    }
   ],
   "source": [
    "#print np.mean(get_score([X_test]))\n",
    "#print np.mean(get_score([X_test_2]))\n",
    "\n",
    "\n",
    "#print get_score([X_test[0].reshape(1,-1)])[0]\n",
    "get_score([X_1])"
   ]
  },
  {
   "cell_type": "code",
   "execution_count": 7,
   "metadata": {},
   "outputs": [
    {
     "data": {
      "text/plain": [
       "array([[0.81831026]], dtype=float32)"
      ]
     },
     "execution_count": 7,
     "metadata": {},
     "output_type": "execute_result"
    }
   ],
   "source": [
    "from collections import Counter\n",
    "X_test = 1.2 * np.random.uniform(size = (50, INPUT_DIM))\n",
    "X_test_2 =  np.random.uniform(size = (50, INPUT_DIM))\n",
    "\n",
    "#Counter((model.predict([X_test, X_test_2]) >= 0.5).flatten())\n",
    "\n",
    "model.predict([X_test[0].reshape(1,-1), X_test_2[0].reshape(1,-1)])\n"
   ]
  }
 ],
 "metadata": {
  "kernelspec": {
   "display_name": "venv",
   "language": "python",
   "name": "venv"
  },
  "language_info": {
   "codemirror_mode": {
    "name": "ipython",
    "version": 2
   },
   "file_extension": ".py",
   "mimetype": "text/x-python",
   "name": "python",
   "nbconvert_exporter": "python",
   "pygments_lexer": "ipython2",
   "version": "2.7.12"
  }
 },
 "nbformat": 4,
 "nbformat_minor": 2
}
