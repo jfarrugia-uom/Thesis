{
 "cells": [
  {
   "cell_type": "markdown",
   "metadata": {},
   "source": [
    "# Mean Average Precision"
   ]
  },
  {
   "cell_type": "code",
   "execution_count": 7,
   "metadata": {},
   "outputs": [
    {
     "name": "stdout",
     "output_type": "stream",
     "text": [
      "[1.0, 0.5, 0.3333333333333333, 0.5, 0.6, 0.6, 0.6, 0.6, 0.8, 1.0]\n",
      "0.6533333333333332\n"
     ]
    }
   ],
   "source": [
    "import numpy as np\n",
    "r = [1,0,0,1,1,0,0,0,1,1]\n",
    "\n",
    "def precision_at_k(r, k, n):\n",
    "    \"\"\"Score is precision @ k\n",
    "    Relevance is binary (nonzero is relevant).\n",
    "    Args:\n",
    "        r: Relevance scores (list or numpy) in rank order\n",
    "            (first element is the first item)\n",
    "    Returns:\n",
    "        Precision @ k\n",
    "    Raises:\n",
    "        ValueError: len(r) must be >= k\n",
    "    \"\"\"\n",
    "    assert k >= 1\n",
    "    r = np.asarray(r)[:k] != 0\n",
    "    if r.size != k:\n",
    "        raise ValueError('Relevance score length < k')\n",
    "    return (np.mean(r)*k)/min(k,n)\n",
    "    # Modified from the first version. Now the gold elements are taken into account\n",
    "\n",
    "# gold_hyps_n = 8\n",
    "r = np.asarray(r) != 0\n",
    "n = 5\n",
    "result = 0.\n",
    "out = [precision_at_k(r, k + 1, n) for k in range(r.size)]\n",
    "    #Modified from the first version (removed \"if r[k]\"). All elements (zero and nonzero) are taken into account\n",
    "print out\n",
    "if not out:\n",
    "    result = 0.\n",
    "result = np.mean(out)\n",
    "print result"
   ]
  },
  {
   "cell_type": "code",
   "execution_count": 13,
   "metadata": {},
   "outputs": [
    {
     "data": {
      "text/plain": [
       "1.0"
      ]
     },
     "execution_count": 13,
     "metadata": {},
     "output_type": "execute_result"
    }
   ],
   "source": [
    "r = [1,0,0,1,1,0,0,0,1,1]\n",
    "r = np.asarray(r).nonzero()[0]\n",
    "1./ (r[0] + 1)"
   ]
  }
 ],
 "metadata": {
  "kernelspec": {
   "display_name": "Python 2",
   "language": "python",
   "name": "python2"
  },
  "language_info": {
   "codemirror_mode": {
    "name": "ipython",
    "version": 2
   },
   "file_extension": ".py",
   "mimetype": "text/x-python",
   "name": "python",
   "nbconvert_exporter": "python",
   "pygments_lexer": "ipython2",
   "version": "2.7.12"
  }
 },
 "nbformat": 4,
 "nbformat_minor": 2
}
