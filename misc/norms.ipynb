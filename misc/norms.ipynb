{
 "cells": [
  {
   "cell_type": "code",
   "execution_count": 2,
   "metadata": {
    "collapsed": true
   },
   "outputs": [],
   "source": [
    "import numpy as np\n",
    "from numpy.linalg import norm"
   ]
  },
  {
   "cell_type": "code",
   "execution_count": 51,
   "metadata": {},
   "outputs": [
    {
     "name": "stdout",
     "output_type": "stream",
     "text": [
      "[[1 2 3]\n",
      " [4 5 6]]\n",
      "9.539392014169456\n",
      "[[1 2 3]\n",
      " [4 5 6]]\n",
      "9.539392014169456\n",
      "------------------------------\n",
      "[1 2 3 4 5 6]\n",
      "9.539392014169456\n",
      "[[1 2 3]\n",
      " [4 5 6]]\n",
      "9.539392014169456\n"
     ]
    }
   ],
   "source": [
    "a = np.array([[1,2,3],[4,5,6]])\n",
    "print a\n",
    "print norm(a)\n",
    "\n",
    "b = (np.arange(6) + 1).reshape((2,3))\n",
    "print b\n",
    "print norm(b)\n",
    "\n",
    "print \"-\"*30\n",
    "c = np.array([1,2,3,4,5,6])\n",
    "print c\n",
    "print norm(c)\n",
    "\n",
    "d = c.reshape((2,3))\n",
    "print d\n",
    "print norm(d)\n",
    "\n",
    "\n"
   ]
  },
  {
   "cell_type": "code",
   "execution_count": 32,
   "metadata": {},
   "outputs": [
    {
     "name": "stdout",
     "output_type": "stream",
     "text": [
      "[-4 -3 -2 -1  0  1  2  3]\n",
      "6.6332495807108\n",
      "[[-4 -3 -2 -1]\n",
      " [ 0  1  2  3]]\n",
      "6.6332495807108\n",
      "[1 2 3 4 5 6 7 8]\n",
      "14.2828568570857\n",
      "[[1 2 3 4]\n",
      " [5 6 7 8]]\n",
      "14.2828568570857\n"
     ]
    }
   ],
   "source": [
    "a = np.arange(8) - 4\n",
    "print a\n",
    "print norm(a)\n",
    "\n",
    "b = a.reshape((2, 4))\n",
    "print b\n",
    "print norm(b)\n",
    "\n",
    "\n",
    "a = np.arange(8) + 1\n",
    "print a\n",
    "print norm(a)\n",
    "\n",
    "b = a.reshape((2, 4))\n",
    "print b\n",
    "print norm(b)\n",
    "\n"
   ]
  },
  {
   "cell_type": "code",
   "execution_count": 50,
   "metadata": {},
   "outputs": [
    {
     "data": {
      "text/plain": [
       "9.539392014169456"
      ]
     },
     "execution_count": 50,
     "metadata": {},
     "output_type": "execute_result"
    }
   ],
   "source": [
    "np.sqrt(np.sum(a**2))"
   ]
  },
  {
   "cell_type": "code",
   "execution_count": 78,
   "metadata": {},
   "outputs": [
    {
     "name": "stdout",
     "output_type": "stream",
     "text": [
      "[[3 1]\n",
      " [1 3]\n",
      " [2 4]\n",
      " [1 4]\n",
      " [3 4]]\n",
      "[[0 2 4 0]\n",
      " [2 1 1 4]]\n"
     ]
    }
   ],
   "source": [
    "a = np.array([[1],[2],[3]])\n",
    "b = np.array([1,2,3])\n",
    "#print a.T, b\n",
    "\n",
    "np.dot(a.T,b)\n",
    "\n",
    "a = np.random.randint(5, size=(5,2))\n",
    "b = np.random.randint(5, size=(2, 4))\n",
    "print a\n",
    "print b"
   ]
  },
  {
   "cell_type": "code",
   "execution_count": null,
   "metadata": {},
   "outputs": [],
   "source": [
    "\n",
    "\n"
   ]
  },
  {
   "cell_type": "code",
   "execution_count": null,
   "metadata": {
    "collapsed": true
   },
   "outputs": [],
   "source": []
  },
  {
   "cell_type": "code",
   "execution_count": null,
   "metadata": {
    "collapsed": true
   },
   "outputs": [],
   "source": []
  },
  {
   "cell_type": "code",
   "execution_count": null,
   "metadata": {
    "collapsed": true
   },
   "outputs": [],
   "source": []
  },
  {
   "cell_type": "code",
   "execution_count": null,
   "metadata": {
    "collapsed": true
   },
   "outputs": [],
   "source": []
  },
  {
   "cell_type": "code",
   "execution_count": null,
   "metadata": {
    "collapsed": true
   },
   "outputs": [],
   "source": []
  },
  {
   "cell_type": "code",
   "execution_count": null,
   "metadata": {
    "collapsed": true
   },
   "outputs": [],
   "source": []
  },
  {
   "cell_type": "code",
   "execution_count": null,
   "metadata": {
    "collapsed": true
   },
   "outputs": [],
   "source": []
  },
  {
   "cell_type": "code",
   "execution_count": null,
   "metadata": {
    "collapsed": true
   },
   "outputs": [],
   "source": []
  },
  {
   "cell_type": "code",
   "execution_count": null,
   "metadata": {
    "collapsed": true
   },
   "outputs": [],
   "source": []
  },
  {
   "cell_type": "code",
   "execution_count": null,
   "metadata": {
    "collapsed": true
   },
   "outputs": [],
   "source": []
  },
  {
   "cell_type": "code",
   "execution_count": null,
   "metadata": {
    "collapsed": true
   },
   "outputs": [],
   "source": []
  }
 ],
 "metadata": {
  "kernelspec": {
   "display_name": "Python 2",
   "language": "python",
   "name": "python2"
  },
  "language_info": {
   "codemirror_mode": {
    "name": "ipython",
    "version": 2
   },
   "file_extension": ".py",
   "mimetype": "text/x-python",
   "name": "python",
   "nbconvert_exporter": "python",
   "pygments_lexer": "ipython2",
   "version": "2.7.12"
  }
 },
 "nbformat": 4,
 "nbformat_minor": 2
}
