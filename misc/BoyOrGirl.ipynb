{
 "cells": [
  {
   "cell_type": "code",
   "execution_count": 2,
   "metadata": {
    "collapsed": true
   },
   "outputs": [],
   "source": [
    "import pandas as pd\n",
    "import numpy as np"
   ]
  },
  {
   "cell_type": "code",
   "execution_count": 19,
   "metadata": {
    "collapsed": true
   },
   "outputs": [],
   "source": [
    "#https://nlpforhackers.io/introduction-machine-learning/#more-3205\n",
    "names = pd.read_csv('names_dataset.csv')"
   ]
  },
  {
   "cell_type": "code",
   "execution_count": 20,
   "metadata": {},
   "outputs": [
    {
     "name": "stdout",
     "output_type": "stream",
     "text": [
      "95025 names in dataset\n"
     ]
    }
   ],
   "source": [
    "print \"%d names in dataset\" % len(names)"
   ]
  },
  {
   "cell_type": "code",
   "execution_count": 21,
   "metadata": {},
   "outputs": [],
   "source": [
    "names = names.as_matrix()[:, 1:]\n"
   ]
  },
  {
   "cell_type": "code",
   "execution_count": 50,
   "metadata": {},
   "outputs": [
    {
     "name": "stdout",
     "output_type": "stream",
     "text": [
      "[['Mary' 'F']\n",
      " ['Anna' 'F']\n",
      " ['Emma' 'F']\n",
      " ...\n",
      " ['Ziyu' 'M']\n",
      " ['Zykir' 'M']\n",
      " ['Zyus' 'M']]\n"
     ]
    },
    {
     "data": {
      "text/plain": [
       "'hel'"
      ]
     },
     "execution_count": 50,
     "metadata": {},
     "output_type": "execute_result"
    }
   ],
   "source": [
    "print names\n",
    "# 20% of our data will be consigned to testing\n",
    "TEST_SIZE = 0.2\n",
    "'hello james farrugia'[:3]"
   ]
  },
  {
   "cell_type": "code",
   "execution_count": 54,
   "metadata": {},
   "outputs": [
    {
     "data": {
      "text/plain": [
       "{'first2_letters': 'ja',\n",
       " 'first3_letters': 'jam',\n",
       " 'first_letter': 'j',\n",
       " 'last2_letters': 'es',\n",
       " 'last3_letters': 'mes',\n",
       " 'last_letter': 's'}"
      ]
     },
     "execution_count": 54,
     "metadata": {},
     "output_type": "execute_result"
    }
   ],
   "source": [
    "def features(name):\n",
    "    name = name.lower()\n",
    "    return {\n",
    "        'first_letter': name[0], \n",
    "        'first2_letters': name[:2],\n",
    "        'first3_letters': name[:3],\n",
    "        'last_letter': name[-1],\n",
    "        'last2_letters': name[-2:],\n",
    "        'last3_letters': name[-3:]                \n",
    "    }\n",
    "\n",
    "features(\"James\")"
   ]
  },
  {
   "cell_type": "code",
   "execution_count": 55,
   "metadata": {
    "collapsed": true
   },
   "outputs": [],
   "source": [
    "# allow features function to work on array\n",
    "features = np.vectorize(features)"
   ]
  },
  {
   "cell_type": "code",
   "execution_count": 60,
   "metadata": {},
   "outputs": [],
   "source": [
    "# convert input to features\n",
    "X = features(names[:, 0])"
   ]
  },
  {
   "cell_type": "code",
   "execution_count": 63,
   "metadata": {},
   "outputs": [
    {
     "data": {
      "text/plain": [
       "array(['F', 'F', 'F', ..., 'M', 'M', 'M'], dtype=object)"
      ]
     },
     "execution_count": 63,
     "metadata": {},
     "output_type": "execute_result"
    }
   ],
   "source": [
    "y = names[:, 1] # y contains the target\n",
    "y"
   ]
  },
  {
   "cell_type": "code",
   "execution_count": 72,
   "metadata": {
    "collapsed": true
   },
   "outputs": [],
   "source": [
    "# split our dataset into train and test\n",
    "from sklearn.cross_validation import train_test_split\n",
    "X_train, X_test, y_train, y_test = train_test_split(X, y, test_size=TEST_SIZE, random_state=0)"
   ]
  },
  {
   "cell_type": "code",
   "execution_count": 74,
   "metadata": {},
   "outputs": [
    {
     "data": {
      "text/plain": [
       "[76020, 19005, 76020, 19005]"
      ]
     },
     "execution_count": 74,
     "metadata": {},
     "output_type": "execute_result"
    }
   ],
   "source": [
    "[len(ds) for ds in X_train, X_test, y_train, y_test]"
   ]
  },
  {
   "cell_type": "code",
   "execution_count": 75,
   "metadata": {},
   "outputs": [],
   "source": [
    "# transform dictionary feature into numeric vector for use with scikit-learn classifier\n",
    "from sklearn.feature_extraction import DictVectorizer\n",
    "from sklearn.preprocessing import LabelEncoder\n",
    "\n",
    "dV = DictVectorizer()\n",
    "X_train = dV.fit_transform(X_train)\n",
    "\n",
    "class_le = LabelEncoder()\n",
    "y_train = class_le.fit_transform(y_train)\n",
    "# M = 1, F = 0"
   ]
  },
  {
   "cell_type": "code",
   "execution_count": 81,
   "metadata": {},
   "outputs": [
    {
     "data": {
      "text/plain": [
       "DecisionTreeClassifier(class_weight=None, criterion='gini', max_depth=None,\n",
       "            max_features=None, max_leaf_nodes=None,\n",
       "            min_impurity_decrease=0.0, min_impurity_split=None,\n",
       "            min_samples_leaf=1, min_samples_split=2,\n",
       "            min_weight_fraction_leaf=0.0, presort=False, random_state=None,\n",
       "            splitter='best')"
      ]
     },
     "execution_count": 81,
     "metadata": {},
     "output_type": "execute_result"
    }
   ],
   "source": [
    "from sklearn.tree import DecisionTreeClassifier\n",
    "\n",
    "clf = DecisionTreeClassifier()\n",
    "clf.fit(X_train, y_train)"
   ]
  },
  {
   "cell_type": "code",
   "execution_count": 95,
   "metadata": {},
   "outputs": [
    {
     "name": "stdout",
     "output_type": "stream",
     "text": [
      "0.9875295974743489\n",
      "0.8645619573796369\n"
     ]
    }
   ],
   "source": [
    "clf.predict(dV.transform(features([\"Esther\", \"Edward\"])))\n",
    "# print training accuracy score\n",
    "print clf.score(X_train, y_train)\n",
    "# print testing accuracy score\n",
    "print clf.score(dV.transform(X_test), class_le.transform(y_test))"
   ]
  },
  {
   "cell_type": "code",
   "execution_count": 96,
   "metadata": {
    "collapsed": true
   },
   "outputs": [],
   "source": [
    "# print decision tree\n",
    "from sklearn.tree import export_graphviz\n",
    "export_graphviz(clf, out_file=\"name_tree.dot\")"
   ]
  },
  {
   "cell_type": "code",
   "execution_count": 110,
   "metadata": {},
   "outputs": [
    {
     "data": {
      "text/plain": [
       "(1, 8587)"
      ]
     },
     "execution_count": 110,
     "metadata": {},
     "output_type": "execute_result"
    }
   ],
   "source": [
    "from scipy.sparse import csr_matrix\n",
    "csr_matrix.todense(X_train[:1]).shape"
   ]
  },
  {
   "cell_type": "code",
   "execution_count": 108,
   "metadata": {},
   "outputs": [
    {
     "data": {
      "text/plain": [
       "array([0])"
      ]
     },
     "execution_count": 108,
     "metadata": {},
     "output_type": "execute_result"
    }
   ],
   "source": [
    "clf.predict(dV.transform(features([\"Brian\"])))"
   ]
  },
  {
   "cell_type": "code",
   "execution_count": 190,
   "metadata": {},
   "outputs": [],
   "source": [
    "def factorial(n):\n",
    "    if (n == 1):\n",
    "        return 1\n",
    "    else:\n",
    "        return n * factorial(n-1)\n",
    "\n",
    "memo = {0:0, 1:1}\n",
    "def fib(n):\n",
    "    #return fib(n-2) + fib(n-1)\n",
    "    if n in memo:\n",
    "        return memo[n]\n",
    "    else:\n",
    "        memo[n] = fib(n-2) + fib(n-1)\n",
    "        return memo[n]\n",
    "\n",
    "def fib_iter(n):\n",
    "    list_value = [0, 1]\n",
    "    fib_value = 0\n",
    "    for i in range(n+1):\n",
    "        if i < 2:\n",
    "            fib_value = list_value[i]\n",
    "        else:\n",
    "            fib_value = sum(list_value)\n",
    "            list_value[0] = list_value[1]\n",
    "            list_value[1] = fib_value\n",
    "    return fib_value\n",
    "    \n",
    "def mult3(n):\n",
    "    if n == 0:\n",
    "        return 0\n",
    "    elif n == 1:\n",
    "        return 3\n",
    "    else:\n",
    "        return mult3(n-1) + 3\n",
    "\n",
    "def sum_n(n):\n",
    "    if n==0:\n",
    "        return 0\n",
    "    else:\n",
    "        return sum_n(n-1) + n"
   ]
  },
  {
   "cell_type": "code",
   "execution_count": 192,
   "metadata": {},
   "outputs": [
    {
     "name": "stdout",
     "output_type": "stream",
     "text": [
      "354224848179261915075\n",
      "354224848179261915075\n"
     ]
    }
   ],
   "source": [
    "#[fib(x) for x in range(10)]\n",
    "#sum_n(100)\n",
    "\n",
    "\n",
    "print fib_iter(100)\n",
    "print fib(100)\n"
   ]
  },
  {
   "cell_type": "code",
   "execution_count": null,
   "metadata": {
    "collapsed": true
   },
   "outputs": [],
   "source": []
  },
  {
   "cell_type": "code",
   "execution_count": null,
   "metadata": {
    "collapsed": true
   },
   "outputs": [],
   "source": []
  },
  {
   "cell_type": "code",
   "execution_count": null,
   "metadata": {
    "collapsed": true
   },
   "outputs": [],
   "source": []
  },
  {
   "cell_type": "code",
   "execution_count": null,
   "metadata": {
    "collapsed": true
   },
   "outputs": [],
   "source": []
  },
  {
   "cell_type": "code",
   "execution_count": null,
   "metadata": {
    "collapsed": true
   },
   "outputs": [],
   "source": []
  },
  {
   "cell_type": "code",
   "execution_count": null,
   "metadata": {
    "collapsed": true
   },
   "outputs": [],
   "source": []
  },
  {
   "cell_type": "code",
   "execution_count": null,
   "metadata": {
    "collapsed": true
   },
   "outputs": [],
   "source": []
  },
  {
   "cell_type": "code",
   "execution_count": null,
   "metadata": {
    "collapsed": true
   },
   "outputs": [],
   "source": []
  }
 ],
 "metadata": {
  "kernelspec": {
   "display_name": "Python 2",
   "language": "python",
   "name": "python2"
  },
  "language_info": {
   "codemirror_mode": {
    "name": "ipython",
    "version": 2
   },
   "file_extension": ".py",
   "mimetype": "text/x-python",
   "name": "python",
   "nbconvert_exporter": "python",
   "pygments_lexer": "ipython2",
   "version": "2.7.12"
  }
 },
 "nbformat": 4,
 "nbformat_minor": 2
}
